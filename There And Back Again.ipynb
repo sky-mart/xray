{
 "cells": [
  {
   "cell_type": "code",
   "execution_count": 142,
   "metadata": {
    "collapsed": true
   },
   "outputs": [],
   "source": [
    "%matplotlib inline\n",
    "import numpy as np\n",
    "import scipy as sp\n",
    "from scipy import signal\n",
    "from scipy.misc import imread, imsave, face\n",
    "from scipy.fftpack import fft2, ifft2\n",
    "import matplotlib.pyplot as plt\n",
    "\n",
    "from os import listdir\n",
    "from parse import *\n",
    "import os\n",
    "import re"
   ]
  },
  {
   "cell_type": "code",
   "execution_count": 143,
   "metadata": {
    "collapsed": false
   },
   "outputs": [],
   "source": [
    "def upsample(img, n):\n",
    "    # размеры в n раз больше\n",
    "    new_shape = tuple(map(lambda x: x * n, img.shape))\n",
    "    \n",
    "    new_img = np.empty(new_shape)\n",
    "    for i in xrange(img.shape[0]):\n",
    "        for j in xrange(img.shape[1]):\n",
    "            new_img[i*n:(i+1)*n, j*n:(j+1)*n] = np.full((n, n), img[i, j])\n",
    "    return new_img"
   ]
  },
  {
   "cell_type": "code",
   "execution_count": 144,
   "metadata": {
    "collapsed": true
   },
   "outputs": [],
   "source": [
    "def deconv2(c, b):\n",
    "    Nout = c.shape[0] - b.shape[0] + 1\n",
    "    Mout = c.shape[1] - b.shape[1] + 1\n",
    "    b = np.pad(b, [(0, c.shape[0] - b.shape[0]), (0, c.shape[1] - b.shape[1])], \"constant\", constant_values=0)\n",
    "    \n",
    "    a = ifft2(fft2(c) / fft2(b))\n",
    "    a = np.real(a[:Nout, :Mout])\n",
    "    return a"
   ]
  },
  {
   "cell_type": "code",
   "execution_count": 145,
   "metadata": {
    "collapsed": true
   },
   "outputs": [],
   "source": [
    "def wiener_deconv2(c, b, snr):\n",
    "    Nout = c.shape[0] - b.shape[0] + 1\n",
    "    Mout = c.shape[1] - b.shape[1] + 1\n",
    "    b = np.pad(b, [(0, Nout-1), (0, Mout-1)], \"constant\", constant_values=0)\n",
    "    \n",
    "    Fc = fft2(c)\n",
    "    Fb = fft2(b)\n",
    "    \n",
    "    G = (Fb * np.conj(Fb)) / (Fb * np.conj(Fb) + 1.0 / snr) / Fb\n",
    "    a = ifft2(G * Fc)\n",
    "    a = np.real(a[:Nout, :Mout])\n",
    "    a[abs(a) < 1e-12] = 0.0\n",
    "    return a"
   ]
  },
  {
   "cell_type": "code",
   "execution_count": 146,
   "metadata": {
    "collapsed": true
   },
   "outputs": [],
   "source": [
    "def show_pics(pics, titles):\n",
    "    _, axis = plt.subplots(nrows=1, ncols=len(pics), sharex=True, sharey=True, figsize=(14,6))\n",
    "    for i in xrange(len(pics)):\n",
    "        axis[i].imshow(pics[i], cmap='Greys_r')\n",
    "#         axis[i].axis('off')\n",
    "        axis[i].set_title(titles[i])\n",
    "    plt.show()"
   ]
  },
  {
   "cell_type": "markdown",
   "metadata": {},
   "source": [
    "Когда мы строим свернутую картинку из сэмплов, мы не знаем размер исходного изображения, поэтому полагаем, что размеры исходного изображения = размеры сэмпла * размер шаблона. То есть размер изображения на выходе свертки должен быть равен размеру изображения на выходе нашего построения из сэмплов.\n",
    "\n",
    "Обозначим за $k$ размер шаблона, а за $h$ один из размеров изображения и проследим как он меняется.\n",
    "При свертке:\n",
    "$$ h_c = h + k - 1 $$\n",
    "При нашем построении из сэмплов:\n",
    "$$ H = h + 2(k-1) - [\\text{дополнение нулями с двух сторон}] $$\n",
    "$$ h_m = [\\frac{H}{k}] - [\\text{количество укладываемых шаблонов}] $$\n",
    "$$ h_s = h_m * k - [\\text{размер на выходе построения}]$$\n",
    "\n",
    "$$ h_s = h_c $$\n",
    "То есть\n",
    "$$ \\left[\\frac{h + 2(k-1)}{k}\\right]k = h + k - 1 $$\n",
    "$$ \\left[\\frac{h - 2}{k}\\right]k + 2k = h + k - 1 $$\n",
    "$$ \\left[\\frac{h - 2}{k}\\right] = \\frac{h - 1}{k} - 1 $$\n",
    "\n",
    "Получаем, что $h-1$ нацело делится на $k$ и, следовательно $\\left[\\frac{h - 2}{k}\\right]$ ровно на 1 меньше, чем $\\frac{h - 1}{k}$.\n",
    "\n",
    "Все аналогично для второго размера."
   ]
  },
  {
   "cell_type": "code",
   "execution_count": 147,
   "metadata": {
    "collapsed": true
   },
   "outputs": [],
   "source": [
    "def generate_sample_images(img, psf):\n",
    "    k = psf.shape[0]; # assume psf as square template\n",
    "    \n",
    "    # pad image with zeros\n",
    "    padded = np.pad(img, [(k-1, k-1), (k-1, k-1)], \"constant\", constant_values=0)\n",
    "    \n",
    "    sample_rows, sample_cols = padded.shape[0] / k, padded.shape[1] / k\n",
    "    samples = np.empty((k, k, sample_rows, sample_cols))  \n",
    "    \n",
    "    # anchor_y, anchor_x - координаты в img, с которых мы начинаем прикладывать левый верхний край шаблона\n",
    "    for anchor_y in xrange(k):\n",
    "        for anchor_x in xrange(k):\n",
    "            tmp = np.zeros((sample_rows, sample_cols))\n",
    "            \n",
    "            # y, x - coordinates where the template (upper left corner) is attached\n",
    "            for y in xrange(anchor_y, padded.shape[0] - (k-1), k):\n",
    "                for x in xrange(anchor_x, padded.shape[1] - (k-1), k):\n",
    "                    i = (y - anchor_y) / k\n",
    "                    j = (x - anchor_x) / k\n",
    "                    tmp[i, j] = np.sum(padded[y:y+k, x:x+k] * psf)\n",
    "            samples[anchor_y, anchor_x] = tmp\n",
    "    return samples"
   ]
  },
  {
   "cell_type": "code",
   "execution_count": 148,
   "metadata": {
    "collapsed": false
   },
   "outputs": [],
   "source": [
    "def conv_from_samples(samples, to_shape=None):\n",
    "    k, _, sample_rows, sample_cols = samples.shape # assume psf as square template\n",
    "    if to_shape:\n",
    "        sampled = np.empty(to_shape)\n",
    "    else:\n",
    "        sampled = np.empty((k*sample_rows, k*sample_cols))\n",
    "                           \n",
    "    for anchor_y in xrange(k):\n",
    "        for anchor_x in xrange(k): \n",
    "            for y in xrange(anchor_y, sampled.shape[0], k):\n",
    "                for x in xrange(anchor_x, sampled.shape[1], k):\n",
    "                    i = (y - anchor_y) / k\n",
    "                    j = (x - anchor_x) / k\n",
    "                    sampled[y, x] = samples[anchor_y, anchor_x, i, j]\n",
    "    return sampled"
   ]
  },
  {
   "cell_type": "code",
   "execution_count": 189,
   "metadata": {
    "collapsed": false
   },
   "outputs": [],
   "source": [
    "def save_24bit(name, img_f32):\n",
    "    img = Image.fromarray(img_f32)\n",
    "    img = img.convert(mode=\"RGB\")\n",
    "    img.save(name)\n",
    "    \n",
    "def save_samples(samples, path, base_name, extension=\".png\"):\n",
    "    for ay in xrange(samples.shape[0]):\n",
    "        for ax in xrange(samples.shape[1]):\n",
    "            name = os.path.join(path, base_name + (\"_ay=%d_ax=%d\" % (ay, ax)) + extension) \n",
    "            save_24bit(name, samples[ay, ax])"
   ]
  },
  {
   "cell_type": "code",
   "execution_count": 202,
   "metadata": {
    "collapsed": false
   },
   "outputs": [],
   "source": [
    "def read_samples(path, base_name, extension=\".png\"):\n",
    "    pattern = re.compile(base_name + \"_ay=[0-9]+_ax=[0-9]+\\\\\" + extension)\n",
    "    samples_paths = [entry for entry in listdir(path) if pattern.match(entry)]\n",
    "    k = int(len(samples_paths) ** 0.5) # assume the correct number of sample in the folder\n",
    "    sample_shape = imread(samples_paths[0], flatten=True).shape\n",
    "    samples = np.empty((k, k) + sample_shape)\n",
    "    for sample_name in samples_paths:\n",
    "        r = parse(base_name + \"_ay={:d}_ax={:d}\" + extension, sample_name)\n",
    "        (ay, ax) = r.fixed\n",
    "        samples[ay, ax] = imread(os.path.join(path, sample_name), flatten=True)\n",
    "    return samples"
   ]
  },
  {
   "cell_type": "code",
   "execution_count": 203,
   "metadata": {
    "collapsed": false
   },
   "outputs": [],
   "source": [
    "# src = face(gray=True)\n",
    "src = imread(\"peka.png\", flatten=True)"
   ]
  },
  {
   "cell_type": "code",
   "execution_count": 205,
   "metadata": {
    "collapsed": false
   },
   "outputs": [],
   "source": [
    "k = 3 # psfSize\n",
    "psf = np.ones((k, k)) / k ** 2"
   ]
  },
  {
   "cell_type": "code",
   "execution_count": 206,
   "metadata": {
    "collapsed": false
   },
   "outputs": [],
   "source": [
    "samples = generate_sample_images(src, psf)"
   ]
  },
  {
   "cell_type": "code",
   "execution_count": 209,
   "metadata": {
    "collapsed": false
   },
   "outputs": [
    {
     "name": "stdout",
     "output_type": "stream",
     "text": [
      "(3L, 3L, 4L, 4L) float64\n",
      "(3L, 3L, 4L, 4L) float64\n"
     ]
    }
   ],
   "source": [
    "ext = \".png\"\n",
    "save_samples(samples, \".\", \"peka\", ext)\n",
    "print samples.shape, samples.dtype\n",
    "read = read_samples(\".\", \"peka\", ext)\n",
    "print read.shape, read.dtype"
   ]
  },
  {
   "cell_type": "code",
   "execution_count": 208,
   "metadata": {
    "collapsed": false
   },
   "outputs": [
    {
     "data": {
      "text/plain": [
       "array([[ 0.33333333,  0.28288947,  0.95500098,  0.45711093],\n",
       "       [ 0.17177836,  0.31233385,  0.36000061,  0.13833449],\n",
       "       [ 0.95044454,  0.43110657,  0.28655752,  0.38255819],\n",
       "       [ 0.64611138,  0.2385576 ,  0.59555647,  0.17877791]])"
      ]
     },
     "execution_count": 208,
     "metadata": {},
     "output_type": "execute_result"
    }
   ],
   "source": [
    "samples[0,0] - read[0,0]"
   ]
  },
  {
   "cell_type": "code",
   "execution_count": 210,
   "metadata": {
    "collapsed": false
   },
   "outputs": [],
   "source": [
    "sampled_conv = conv_from_samples(read)"
   ]
  },
  {
   "cell_type": "code",
   "execution_count": 212,
   "metadata": {
    "collapsed": false
   },
   "outputs": [],
   "source": [
    "direct_conv = signal.convolve2d(src, psf)"
   ]
  },
  {
   "cell_type": "code",
   "execution_count": 216,
   "metadata": {
    "collapsed": false
   },
   "outputs": [
    {
     "name": "stdout",
     "output_type": "stream",
     "text": [
      "[[ nan  nan  nan  nan  nan  nan  nan  nan  nan  nan]\n",
      " [ nan  nan  nan  nan  nan  nan  nan  nan  nan  nan]\n",
      " [ nan  nan  nan  nan  nan  nan  nan  nan  nan  nan]\n",
      " [ nan  nan  nan  nan  nan  nan  nan  nan  nan  nan]\n",
      " [ nan  nan  nan  nan  nan  nan  nan  nan  nan  nan]\n",
      " [ nan  nan  nan  nan  nan  nan  nan  nan  nan  nan]\n",
      " [ nan  nan  nan  nan  nan  nan  nan  nan  nan  nan]\n",
      " [ nan  nan  nan  nan  nan  nan  nan  nan  nan  nan]\n",
      " [ nan  nan  nan  nan  nan  nan  nan  nan  nan  nan]\n",
      " [ nan  nan  nan  nan  nan  nan  nan  nan  nan  nan]]\n"
     ]
    },
    {
     "name": "stderr",
     "output_type": "stream",
     "text": [
      "C:\\Users\\Autex\\Anaconda2\\lib\\site-packages\\ipykernel\\__main__.py:9: RuntimeWarning: invalid value encountered in divide\n",
      "C:\\Users\\Autex\\Anaconda2\\lib\\site-packages\\ipykernel\\__main__.py:12: RuntimeWarning: invalid value encountered in less\n"
     ]
    }
   ],
   "source": [
    "rest = wiener_deconv2(direct_conv, psf, 100)\n",
    "print rest"
   ]
  },
  {
   "cell_type": "code",
   "execution_count": 217,
   "metadata": {
    "collapsed": false
   },
   "outputs": [
    {
     "data": {
      "image/png": "[encoded data removed]",
      "text/plain": [
       "<matplotlib.figure.Figure at 0xc6d9e10>"
      ]
     },
     "metadata": {},
     "output_type": "display_data"
    }
   ],
   "source": [
    "show_pics(pics=[direct_conv, sampled_conv], titles=[\"Source\", \"Convolved\"])"
   ]
  },
  {
   "cell_type": "markdown",
   "metadata": {},
   "source": [
    "Разворачиваем и сравниваем с исходным изображением"
   ]
  },
  {
   "cell_type": "code",
   "execution_count": null,
   "metadata": {
    "collapsed": false
   },
   "outputs": [],
   "source": [
    "rest1 = deconv2(conv1, psf)\n",
    "show_pics(pics=[src, rest1], titles=[\"Source\", \"Restored\"])"
   ]
  },
  {
   "cell_type": "markdown",
   "metadata": {},
   "source": [
    "Сгенерим картинки, будто бы от наших механических сдвигов. Мы хотим получить то же, что и в результате свертки."
   ]
  },
  {
   "cell_type": "code",
   "execution_count": null,
   "metadata": {
    "collapsed": false
   },
   "outputs": [],
   "source": [
    "sampled.shape, conv1.shape"
   ]
  },
  {
   "cell_type": "code",
   "execution_count": null,
   "metadata": {
    "collapsed": false
   },
   "outputs": [],
   "source": [
    "print (sampled - conv1[2*bh:-2*bh,2*bw:-2*bw]).mean()"
   ]
  },
  {
   "cell_type": "code",
   "execution_count": null,
   "metadata": {
    "collapsed": false,
    "scrolled": false
   },
   "outputs": [],
   "source": [
    "show_pics(pics=[conv1[2*bh:-2*bh,2*bw:-2*bw], sampled], titles=[\"Convolved\", \"Sampled\"])"
   ]
  },
  {
   "cell_type": "code",
   "execution_count": null,
   "metadata": {
    "collapsed": false
   },
   "outputs": [],
   "source": [
    "conv1[0,1045], sampled[0,1045]"
   ]
  },
  {
   "cell_type": "markdown",
   "metadata": {},
   "source": [
    "Два способа получить размазанные изображения идентичны"
   ]
  },
  {
   "cell_type": "markdown",
   "metadata": {},
   "source": [
    "Развернем и сравним с исходной"
   ]
  },
  {
   "cell_type": "code",
   "execution_count": null,
   "metadata": {
    "collapsed": false
   },
   "outputs": [],
   "source": [
    "deconved = deconv2(sampled, psf)"
   ]
  },
  {
   "cell_type": "code",
   "execution_count": null,
   "metadata": {
    "collapsed": false
   },
   "outputs": [],
   "source": [
    "show_pics([src[2*bh:-2*bh,2*bw:-2*bw], deconved], [\"Source\", \"Deconvolved\"])"
   ]
  },
  {
   "cell_type": "markdown",
   "metadata": {},
   "source": [
    "Нужен какой-то критерий эффективности восстановления картинки.\n",
    "Последовательность действий у нас такая: \n",
    "картинка -> свернутая картинка -> свернутая картинка с шумом -> развернутая картинка"
   ]
  },
  {
   "cell_type": "code",
   "execution_count": null,
   "metadata": {
    "collapsed": true
   },
   "outputs": [],
   "source": [
    "def criteria(orig, reconstr):\n",
    "    d = orig - reconstr\n",
    "    print \"mean: \", d.mean(), \", std: \", d.std()"
   ]
  },
  {
   "cell_type": "code",
   "execution_count": null,
   "metadata": {
    "collapsed": true
   },
   "outputs": [],
   "source": [
    "a = face(gray=True)"
   ]
  },
  {
   "cell_type": "code",
   "execution_count": null,
   "metadata": {
    "collapsed": false,
    "scrolled": true
   },
   "outputs": [],
   "source": [
    "psf_sz = 10\n",
    "b = np.ones((psf_sz, psf_sz)) / (psf_sz ** 2)\n",
    "\n",
    "c = signal.convolve2d(a, b)\n",
    "sigma = 5\n",
    "n = np.random.normal(0, sigma, c.shape)\n",
    "Fa = fft2(np.pad(a, [(0, c.shape[0]-a.shape[0]), (0, c.shape[1]-a.shape[1])], \"constant\", constant_values=0))\n",
    "Fn = fft2(n)\n",
    "snr = (Fa * Fa.conj()) / (Fn * Fn.conj())\n",
    "d = wiener_deconv2(c + n, b, snr)\n",
    "Fd = fft2(d)\n",
    "Fa = fft2(a)\n",
    "a_mag = np.log(np.abs(Fa))\n",
    "# a_mag /= a_mag.mean()\n",
    "d_mag = np.log(np.abs(Fd))\n",
    "\n",
    "Fs = fft2(sample_imgs[0,0])\n",
    "s_mag = np.log(np.abs(Fs))\n",
    "\n",
    "# d_mag /= d_mag.mean()\n",
    "# print a_mag[100:110, 100:110]\n",
    "# print a_mag.mean(), d_mag.mean()\n",
    "show_pics([upsample(s_mag, 23), d_mag], [\"Original spectre\", \"Restored spectre\"])\n",
    "# criteria(a, d)\n",
    "# show_pics([a, d], ['a', 'd'])"
   ]
  },
  {
   "cell_type": "code",
   "execution_count": null,
   "metadata": {
    "collapsed": false
   },
   "outputs": [],
   "source": [
    "plt.imshow(s_mag, cmap='Greys_r')"
   ]
  },
  {
   "cell_type": "code",
   "execution_count": null,
   "metadata": {
    "collapsed": false
   },
   "outputs": [],
   "source": [
    "plt.imshow(d_mag, cmap='Greys_r')"
   ]
  },
  {
   "cell_type": "code",
   "execution_count": null,
   "metadata": {
    "collapsed": false
   },
   "outputs": [],
   "source": [
    "sigma = 1e-3\n",
    "s_noisy = sampled + np.random.normal(0, sigma, sampled.shape)\n",
    "reconstr = wiener_deconv2(s_noisy, psf, 1e6)\n",
    "criteria(src[2*bh:-2*bh,2*bw:-2*bw], reconstr)\n",
    "show_pics([src[2*bh:-2*bh,2*bw:-2*bw], reconstr], [\"Source\", \"Reconstructed\"])"
   ]
  },
  {
   "cell_type": "code",
   "execution_count": null,
   "metadata": {
    "collapsed": false
   },
   "outputs": [],
   "source": [
    "print src.shape, reconstr.shape"
   ]
  },
  {
   "cell_type": "code",
   "execution_count": null,
   "metadata": {
    "collapsed": false
   },
   "outputs": [],
   "source": [
    "print criteria(src[2*bh:-2*bh,2*bw:-2*bw], reconstr)"
   ]
  },
  {
   "cell_type": "code",
   "execution_count": null,
   "metadata": {
    "collapsed": true
   },
   "outputs": [],
   "source": [
    "# from ipywidgets.widgets import *\n",
    "\n",
    "# def wiener_deconv_snr_research(noise_sigma, snr):\n",
    "#     print \"call\", noise_sigma, snr\n",
    "#     noisy = sampled + np.random.normal(0, noise_sigma, sampled.shape)\n",
    "#     reconstr = wiener_deconv2(noisy, psf, snr)\n",
    "#     show_pics([src[2*bh:-2*bh,2*bw:-2*bw], reconstr, noisy], [\"Source\", \"Reconstructed\", \"Sampled Noisy\"])"
   ]
  },
  {
   "cell_type": "code",
   "execution_count": null,
   "metadata": {
    "collapsed": true
   },
   "outputs": [],
   "source": [
    "# def show_noise_impact(noise_sigma):\n",
    "#     noisy = sampled + np.random.normal(0, noise_sigma, sampled.shape)\n",
    "#     show_pics([sampled, noisy], [\"Sampled\", \"Noisy\"])"
   ]
  },
  {
   "cell_type": "code",
   "execution_count": null,
   "metadata": {
    "collapsed": false
   },
   "outputs": [],
   "source": [
    "# interact(wiener_deconv_snr_research, noise_sigma=(1, 10, 1), snr=(1, 100, 0.5))"
   ]
  },
  {
   "cell_type": "code",
   "execution_count": null,
   "metadata": {
    "collapsed": true
   },
   "outputs": [],
   "source": [
    "def wiener_deconv2_sigma(b, p, sigma):\n",
    "    Nout = b.shape[0] - p.shape[0] + 1\n",
    "    Mout = b.shape[1] - p.shape[1] + 1\n",
    "    p = np.pad(p, [(0, Nout-1), (0, Mout-1)], \"constant\", constant_values=0)\n",
    "    \n",
    "    Fb = fft2(b)\n",
    "    Fp = fft2(p)\n",
    "    \n",
    "    snr = (Fb * Fb.conj() + sigma**2) / (Fp * Fp.conj() * sigma**2)\n",
    "    G = (Fp * Fp.conj()) / (Fp * Fp.conj() + 1.0 / snr) / Fp\n",
    "    a = ifft2(G * Fb)\n",
    "    a = np.real(a[:Nout, :Mout])\n",
    "    a[abs(a) < 1e-12] = 0.0\n",
    "    return a"
   ]
  },
  {
   "cell_type": "code",
   "execution_count": null,
   "metadata": {
    "collapsed": false
   },
   "outputs": [],
   "source": [
    "a = np.array([[1, 2, 0, 3, 7], \n",
    "              [0, 10, 1, 1, 1], \n",
    "              [32, 12, 0, 0, 0],\n",
    "              [2, 1, 3, 5, 0],\n",
    "              [3, 0, 4, 2, 1]])\n",
    "\n",
    "b = np.array([[1, 1, 1],\n",
    "              [1, 1, 1],\n",
    "              [1, 1, 1]]) / 9.0\n",
    "# psf_sz = 3\n",
    "# b = np.ones((psf_sz, psf_sz)) / (psf_sz**2)\n",
    "\n",
    "c = signal.convolve2d(a, b)\n",
    "\n",
    "sigma = 0.02\n",
    "print c.std()\n",
    "n = np.random.normal(0, sigma, c.shape)\n",
    "d = wiener_deconv2(c + n, b, 2.5)\n",
    "print (d - a).std()\n",
    "# print d"
   ]
  },
  {
   "cell_type": "code",
   "execution_count": null,
   "metadata": {
    "collapsed": false
   },
   "outputs": [],
   "source": [
    "a = face(gray=True)\n",
    "psf_sz = 23\n",
    "b = np.ones((psf_sz, psf_sz)) / (psf_sz**2)\n",
    "c = signal.convolve2d(a, b)\n",
    "sigma = 0.2\n",
    "n = np.random.normal(0, sigma, c.shape)\n",
    "d = wiener_deconv2_sigma(c + n, b, sigma)\n",
    "print (d - a).std()\n",
    "show_pics(pics=[a, d], titles=[\"A\", \"D\"])"
   ]
  }
 ],
 "metadata": {
  "kernelspec": {
   "display_name": "Python [default]",
   "language": "python",
   "name": "python2"
  },
  "language_info": {
   "codemirror_mode": {
    "name": "ipython",
    "version": 2
   },
   "file_extension": ".py",
   "mimetype": "text/x-python",
   "name": "python",
   "nbconvert_exporter": "python",
   "pygments_lexer": "ipython2",
   "version": "2.7.12"
  }
 },
 "nbformat": 4,
 "nbformat_minor": 1
}
