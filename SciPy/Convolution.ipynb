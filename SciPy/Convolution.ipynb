{
 "cells": [
  {
   "cell_type": "code",
   "execution_count": 1,
   "metadata": {
    "collapsed": false
   },
   "outputs": [],
   "source": [
    "import numpy as np\n",
    "import matplotlib.pyplot as plt\n",
    "from scipy.fftpack import fft, ifft, fft2, ifft2\n",
    "from scipy import signal"
   ]
  },
  {
   "cell_type": "markdown",
   "metadata": {},
   "source": [
    "Что такое дискретная свертка?\n",
    "Есть два сигнала $a[n], n \\in [0, N)$ и $b[m], m \\in [0, M)$. Тогда третий сигнал $c[k], k \\in [0, N+M-1)$ называется сверткой, если:\n",
    "$$ c[k] = \\sum\\limits_{j=-\\infty}^{\\infty} a[j]b[k-j] = \\sum\\limits_{j=-\\infty}^{\\infty} a[k-j]b[j] .$$\n",
    "\n",
    "Предположим, что $M < N$ и возьмем второе равенство и избавимся от бесконечностей, т.к. мы работаем с конечными сигналами.\n",
    "$$ c[k] = \\sum\\limits_{j=j_1}^{j_2} a[k-j]b[j] ,$$\n",
    "\n",
    "Осталось определить $j_1,\\ j_2$. При $m \\notin [0, M) \\ b[m] = 0$. Тогда $j_1 >= 0$, $j_2 < M$\n",
    "\n",
    "Пойдем дальше. Так как при $n \\notin [0, N) \\ a[n] = 0$, то $k-j_2 \\ge 0$ и $k-j_1 < N$. \n",
    "\n",
    "Из этого следует, что $j_1 = max(k-N+1, 0)$, а $j_2 = min(k,M-1)$. Так как в программе мы будем использовать $j_2$ в качестве верхней границы полуинтервала, то можно переписать в виде $j_2 = min(k+1,M)$.\n",
    "\n",
    "Можно показать почему $k \\in [0, N+M-1)$. Введем обозначение $k \\in [0, k_{max})$. $k_{max}$ - это такое значение $k$ при котором $j_1 = j_2$, т.е. полуинтервал индексов пуст. Запишем\n",
    "$$ max(k_{max}-N+1,0) = min(k_{max}+1,M) .$$\n",
    "\n",
    "Так как мы знаем, что свертка длиннее исходных последовательностей, получаем равенство:\n",
    "$$ k_{max}-N+1 = M$$\n",
    "$$ k_{max} = N + M - 1$$"
   ]
  },
  {
   "cell_type": "code",
   "execution_count": 2,
   "metadata": {
    "collapsed": false
   },
   "outputs": [],
   "source": [
    "def conv(a, b):\n",
    "    c = [0] * (len(a) + len(b) - 1)\n",
    "\n",
    "    for k in xrange(len(c)):\n",
    "        j_start = max(k - len(a) + 1, 0)\n",
    "        j_end = min(k + 1, len(b))\n",
    "    #     print \"i:\", i, \"j_start:\", j_start, \"j_end:\", j_end\n",
    "        for j in xrange(j_start, j_end):\n",
    "            c[k] += a[k - j] * b[j]\n",
    "    return c"
   ]
  },
  {
   "cell_type": "code",
   "execution_count": 3,
   "metadata": {
    "collapsed": false
   },
   "outputs": [
    {
     "name": "stdout",
     "output_type": "stream",
     "text": [
      "[3, 10, 8, 9, 19, 25, 23, 7, 8, 13, 1, 0, 2]\n"
     ]
    }
   ],
   "source": [
    "a = np.array([1, 2, 0, 3, 2, 5, 1, 0, 2])\n",
    "b = np.array([3, 4, 0, 0, 1])\n",
    "print conv(a, b)"
   ]
  },
  {
   "cell_type": "markdown",
   "metadata": {},
   "source": [
    "Аналогично для двумерной свертки"
   ]
  },
  {
   "cell_type": "code",
   "execution_count": 4,
   "metadata": {
    "collapsed": true
   },
   "outputs": [],
   "source": [
    "def conv2(a, b):\n",
    "    N = a.shape[0] + b.shape[0] - 1\n",
    "    M = a.shape[1] + b.shape[1] - 1\n",
    "    c = np.zeros((N, M))\n",
    "    \n",
    "    for n in xrange(N):\n",
    "        for m in xrange(M):\n",
    "            i_start = max(n - a.shape[0] + 1, 0)\n",
    "            i_end = min(n + 1, b.shape[0])\n",
    "            \n",
    "            j_start = max(m - a.shape[1] + 1, 0)\n",
    "            j_end = min(m + 1, b.shape[1])\n",
    "            \n",
    "            for i in xrange(i_start, i_end):\n",
    "                for j in xrange(j_start, j_end):\n",
    "                    c[n, m] += a[n-i, m-j] * b[i, j]\n",
    "    return c"
   ]
  },
  {
   "cell_type": "code",
   "execution_count": 5,
   "metadata": {
    "collapsed": false
   },
   "outputs": [
    {
     "name": "stdout",
     "output_type": "stream",
     "text": [
      "[[  1.   2.   1.   5.   7.   3.   7.]\n",
      " [  2.  15.   3.  17.  19.   8.   1.]\n",
      " [ 32.  33.  47.  17.   6.  11.   7.]\n",
      " [ 66.  57.  27.  17.   5.   7.   1.]\n",
      " [  7.  36.  58.  27.  10.   2.   1.]\n",
      " [  6.   5.  11.  12.  12.   6.   0.]\n",
      " [  0.   3.   3.   4.   6.   3.   1.]]\n"
     ]
    }
   ],
   "source": [
    "a = np.array([[1, 2, 0, 3, 7], \n",
    "              [0, 10, 1, 1, 1], \n",
    "              [32, 12, 0, 0, 0],\n",
    "              [2, 1, 3, 5, 0],\n",
    "              [3, 0, 4, 2, 1]])\n",
    "\n",
    "b = np.array([[1, 0, 1],\n",
    "              [2, 1, 0],\n",
    "              [0, 1, 1]])\n",
    "\n",
    "print conv2(a,b)"
   ]
  },
  {
   "cell_type": "markdown",
   "metadata": {},
   "source": [
    "Говорят, что для больших последовательностей выгоднее вычислять свертку используя теорему о свертке.\n",
    "$$ F(a*b) = F(a)F(b) $$"
   ]
  },
  {
   "cell_type": "code",
   "execution_count": 6,
   "metadata": {
    "collapsed": false
   },
   "outputs": [],
   "source": [
    "def fourier_conv(a, b):\n",
    "    Nout = len(a) + len(b) - 1\n",
    "\n",
    "    a = np.pad(a, (0, Nout-len(a)), \"constant\", constant_values=0)\n",
    "    b = np.pad(b, (0, Nout-len(b)), \"constant\", constant_values=0)\n",
    "    \n",
    "    ab = ifft(fft(a) * fft(b))\n",
    "\n",
    "    ab = np.real_if_close(ab)\n",
    "    ab[abs(ab) < 1e-12] = 0.0\n",
    "    return ab"
   ]
  },
  {
   "cell_type": "code",
   "execution_count": 7,
   "metadata": {
    "collapsed": false
   },
   "outputs": [
    {
     "name": "stdout",
     "output_type": "stream",
     "text": [
      "[  3.  10.   8.   9.  19.  25.  23.   7.   8.  13.   1.   0.   2.]\n",
      "[3, 10, 8, 9, 19, 25, 23, 7, 8, 13, 1, 0, 2]\n"
     ]
    }
   ],
   "source": [
    "a = np.array([1, 2, 0, 3, 2, 5, 1, 0, 2])\n",
    "b = np.array([3, 4, 0, 0, 1])\n",
    "print fourier_conv(a, b)\n",
    "print conv(a, b)"
   ]
  },
  {
   "cell_type": "markdown",
   "metadata": {},
   "source": [
    "Теперь попробуем вычислить так называемую обратную свертку. Пусть $c = a * b$ и нам известны $b$ и $c$, а мы хотим найти $a$.\n",
    "$$ F(c) = F(a*b) = F(a)F(b) $$\n",
    "$$ F(a) = F(c) / F(b) $$\n",
    "$$ a = F^{-1}(F(a)) = F^{-1}(F(c) / F(b)) $$"
   ]
  },
  {
   "cell_type": "code",
   "execution_count": 8,
   "metadata": {
    "collapsed": false
   },
   "outputs": [],
   "source": [
    "def deconv(c, b):\n",
    "    Nout = len(c) - len(b) + 1\n",
    "    b = np.pad(b, (0, len(c)-len(b)), \"constant\", constant_values=0)\n",
    "\n",
    "    a = ifft(fft(c) / fft(b))\n",
    "    a = np.real_if_close(a[:Nout])\n",
    "    a[abs(a) < 1e-12] = 0.0\n",
    "    return a"
   ]
  },
  {
   "cell_type": "code",
   "execution_count": 9,
   "metadata": {
    "collapsed": false
   },
   "outputs": [
    {
     "name": "stdout",
     "output_type": "stream",
     "text": [
      "[1 2 0 3 2 5 1 0 2]\n",
      "[ 1.  2.  0.  3.  2.  5.  1.  0.  2.]\n"
     ]
    }
   ],
   "source": [
    "a = np.array([1, 2, 0, 3, 2, 5, 1, 0, 2])\n",
    "b = np.array([3, 4, 0, 0, 1])\n",
    "c = signal.convolve(a, b)\n",
    "\n",
    "print a\n",
    "print deconv(c, b)"
   ]
  },
  {
   "cell_type": "code",
   "execution_count": 10,
   "metadata": {
    "collapsed": true
   },
   "outputs": [],
   "source": [
    "def deconv2(c, b):\n",
    "    Nout = c.shape[0] - b.shape[0] + 1\n",
    "    Mout = c.shape[1] - b.shape[1] + 1\n",
    "    b = np.pad(b, [(0, c.shape[0] - b.shape[0]), (0, c.shape[1] - b.shape[1])], \"constant\", constant_values=0)\n",
    "    \n",
    "    a = ifft2(fft2(c) / fft2(b))\n",
    "    a = np.real_if_close(a[:Nout, :Mout])\n",
    "    a[abs(a) < 1e-12] = 0.0\n",
    "    return a"
   ]
  },
  {
   "cell_type": "code",
   "execution_count": 11,
   "metadata": {
    "collapsed": false
   },
   "outputs": [
    {
     "name": "stdout",
     "output_type": "stream",
     "text": [
      "[[ 1  2  0  3  7]\n",
      " [ 0 10  1  1  1]\n",
      " [32 12  0  0  0]\n",
      " [ 2  1  3  5  0]\n",
      " [ 3  0  4  2  1]]\n",
      "[[  1.   2.   0.   3.   7.]\n",
      " [  0.  10.   1.   1.   1.]\n",
      " [ 32.  12.   0.   0.   0.]\n",
      " [  2.   1.   3.   5.   0.]\n",
      " [  3.   0.   4.   2.   1.]]\n"
     ]
    }
   ],
   "source": [
    "a = np.array([[1, 2, 0, 3, 7], \n",
    "              [0, 10, 1, 1, 1], \n",
    "              [32, 12, 0, 0, 0],\n",
    "              [2, 1, 3, 5, 0],\n",
    "              [3, 0, 4, 2, 1]])\n",
    "\n",
    "b = np.array([[1, 0, 1],\n",
    "              [2, 1, 0],\n",
    "              [0, 1, 1]])\n",
    "\n",
    "c = signal.convolve2d(a, b)\n",
    "\n",
    "print a\n",
    "print deconv2(c, b)"
   ]
  },
  {
   "cell_type": "code",
   "execution_count": null,
   "metadata": {
    "collapsed": true
   },
   "outputs": [],
   "source": []
  }
 ],
 "metadata": {
  "anaconda-cloud": {},
  "kernelspec": {
   "display_name": "Python [default]",
   "language": "python",
   "name": "python2"
  },
  "language_info": {
   "codemirror_mode": {
    "name": "ipython",
    "version": 2
   },
   "file_extension": ".py",
   "mimetype": "text/x-python",
   "name": "python",
   "nbconvert_exporter": "python",
   "pygments_lexer": "ipython2",
   "version": "2.7.12"
  }
 },
 "nbformat": 4,
 "nbformat_minor": 1
}
