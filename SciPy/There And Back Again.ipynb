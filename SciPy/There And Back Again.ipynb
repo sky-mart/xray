{
 "cells": [
  {
   "cell_type": "code",
   "execution_count": 11,
   "metadata": {
    "collapsed": true
   },
   "outputs": [],
   "source": [
    "%matplotlib inline\n",
    "import numpy as np\n",
    "import scipy as sp\n",
    "from scipy import signal\n",
    "from scipy.misc import imread, imsave, face\n",
    "from scipy.fftpack import fft2, ifft2\n",
    "import matplotlib.pyplot as plt\n",
    "\n",
    "from os import listdir\n",
    "from parse import *\n",
    "import os\n",
    "import re\n",
    "\n",
    "from fractions import gcd"
   ]
  },
  {
   "cell_type": "code",
   "execution_count": 12,
   "metadata": {
    "collapsed": false
   },
   "outputs": [],
   "source": [
    "def upsample(img, n):\n",
    "    # размеры в n раз больше\n",
    "    new_shape = tuple(map(lambda x: x * n, img.shape))\n",
    "    \n",
    "    new_img = np.empty(new_shape)\n",
    "    for i in xrange(img.shape[0]):\n",
    "        for j in xrange(img.shape[1]):\n",
    "            new_img[i*n:(i+1)*n, j*n:(j+1)*n] = np.full((n, n), img[i, j])\n",
    "    return new_img"
   ]
  },
  {
   "cell_type": "code",
   "execution_count": 13,
   "metadata": {
    "collapsed": true
   },
   "outputs": [],
   "source": [
    "def deconv2(c, b):\n",
    "    Nout = c.shape[0] - b.shape[0] + 1\n",
    "    Mout = c.shape[1] - b.shape[1] + 1\n",
    "    b = np.pad(b, [(0, c.shape[0] - b.shape[0]), (0, c.shape[1] - b.shape[1])], \"constant\", constant_values=0)\n",
    "    \n",
    "    a = ifft2(fft2(c) / fft2(b))\n",
    "    a = np.real(a[:Nout, :Mout])\n",
    "    return a"
   ]
  },
  {
   "cell_type": "code",
   "execution_count": 14,
   "metadata": {
    "collapsed": false
   },
   "outputs": [],
   "source": [
    "def adjsize(N, K):\n",
    "    while gcd(N[0], K[0]) != 1:\n",
    "        N = N[0] + 1, N[1] \n",
    "    while gcd(N[1], K[1]) != 1:\n",
    "        N = N[0], N[1] + 1\n",
    "    return N\n",
    "\n",
    "def deconv2_adjsize(c, b):\n",
    "    Nout = c.shape[0] - b.shape[0] + 1\n",
    "    Mout = c.shape[1] - b.shape[1] + 1   \n",
    "    N = adjsize(c.shape, b.shape)    \n",
    "        \n",
    "    c = np.pad(c, [(0, N[0] - c.shape[0]), (0, N[1] - c.shape[1])], \"constant\", constant_values=0)\n",
    "    b = np.pad(b, [(0, N[0] - b.shape[0]), (0, N[1] - b.shape[1])], \"constant\", constant_values=0)\n",
    "        \n",
    "    a = ifft2(fft2(c) / fft2(b))\n",
    "    a = np.real(a[:Nout, :Mout])\n",
    "    return a"
   ]
  },
  {
   "cell_type": "code",
   "execution_count": 16,
   "metadata": {
    "collapsed": true
   },
   "outputs": [],
   "source": [
    "def wiener_deconv2(c, b, snr):\n",
    "    Nout = c.shape[0] - b.shape[0] + 1\n",
    "    Mout = c.shape[1] - b.shape[1] + 1\n",
    "    b = np.pad(b, [(0, Nout-1), (0, Mout-1)], \"constant\", constant_values=0)\n",
    "    \n",
    "    Fc = fft2(c)\n",
    "    Fb = fft2(b)\n",
    "    \n",
    "    G = (Fb * np.conj(Fb)) / (Fb * np.conj(Fb) + 1.0 / snr) / Fb\n",
    "    a = ifft2(G * Fc)\n",
    "    a = np.real(a[:Nout, :Mout])\n",
    "    a[abs(a) < 1e-12] = 0.0\n",
    "    return a"
   ]
  },
  {
   "cell_type": "code",
   "execution_count": 17,
   "metadata": {
    "collapsed": true
   },
   "outputs": [],
   "source": [
    "def show_pics(pics, titles):\n",
    "    _, axis = plt.subplots(nrows=1, ncols=len(pics), sharex=True, sharey=True, figsize=(14,6))\n",
    "    for i in xrange(len(pics)):\n",
    "        axis[i].imshow(pics[i], cmap='Greys_r')\n",
    "#         axis[i].axis('off')\n",
    "        axis[i].set_title(titles[i])\n",
    "    plt.show()"
   ]
  },
  {
   "cell_type": "markdown",
   "metadata": {},
   "source": [
    "Когда мы строим свернутую картинку из сэмплов, мы не знаем размер исходного изображения, поэтому полагаем, что размеры исходного изображения = размеры сэмпла * размер шаблона. То есть размер изображения на выходе свертки должен быть равен размеру изображения на выходе нашего построения из сэмплов.\n",
    "\n",
    "Обозначим за $k$ размер шаблона, а за $h$ один из размеров изображения и проследим как он меняется.\n",
    "При свертке:\n",
    "$$ h_c = h + k - 1 $$\n",
    "При нашем построении из сэмплов:\n",
    "$$ H = h + 2(k-1) - [\\text{дополнение нулями с двух сторон}] $$\n",
    "$$ h_m = [\\frac{H}{k}] - [\\text{количество укладываемых шаблонов}] $$\n",
    "$$ h_s = h_m * k - [\\text{размер на выходе построения}]$$\n",
    "\n",
    "$$ h_s = h_c $$\n",
    "То есть\n",
    "$$ \\left[\\frac{h + 2(k-1)}{k}\\right]k = h + k - 1 $$\n",
    "$$ \\left[\\frac{h - 2}{k}\\right]k + 2k = h + k - 1 $$\n",
    "$$ \\left[\\frac{h - 2}{k}\\right] = \\frac{h - 1}{k} - 1 $$\n",
    "\n",
    "Получаем, что $h-1$ нацело делится на $k$ и, следовательно $\\left[\\frac{h - 2}{k}\\right]$ ровно на 1 меньше, чем $\\frac{h - 1}{k}$.\n",
    "\n",
    "Все аналогично для второго размера."
   ]
  },
  {
   "cell_type": "code",
   "execution_count": 18,
   "metadata": {
    "collapsed": true
   },
   "outputs": [],
   "source": [
    "def generate_sample_images(img, psf):\n",
    "    k = psf.shape[0]; # assume psf as square template\n",
    "    \n",
    "    # pad image with zeros\n",
    "    padded = np.pad(img, [(k-1, k-1), (k-1, k-1)], \"constant\", constant_values=0)\n",
    "    \n",
    "    sample_rows, sample_cols = padded.shape[0] / k, padded.shape[1] / k\n",
    "    samples = np.empty((k, k, sample_rows, sample_cols))  \n",
    "    \n",
    "    # anchor_y, anchor_x - координаты в img, с которых мы начинаем прикладывать левый верхний край шаблона\n",
    "    for anchor_y in xrange(k):\n",
    "        for anchor_x in xrange(k):\n",
    "            tmp = np.zeros((sample_rows, sample_cols))\n",
    "            \n",
    "            # y, x - coordinates where the template (upper left corner) is attached\n",
    "            for y in xrange(anchor_y, padded.shape[0] - (k-1), k):\n",
    "                for x in xrange(anchor_x, padded.shape[1] - (k-1), k):\n",
    "                    i = (y - anchor_y) / k\n",
    "                    j = (x - anchor_x) / k\n",
    "                    tmp[i, j] = np.sum(padded[y:y+k, x:x+k] * psf)\n",
    "            samples[anchor_y, anchor_x] = tmp\n",
    "    return samples"
   ]
  },
  {
   "cell_type": "code",
   "execution_count": 19,
   "metadata": {
    "collapsed": false
   },
   "outputs": [],
   "source": [
    "def conv_from_samples(samples, to_shape=None):\n",
    "    k, _, sample_rows, sample_cols = samples.shape # assume psf as square template\n",
    "    if to_shape:\n",
    "        sampled = np.empty(to_shape)\n",
    "    else:\n",
    "        sampled = np.empty((k*sample_rows, k*sample_cols))\n",
    "                           \n",
    "    for anchor_y in xrange(k):\n",
    "        for anchor_x in xrange(k): \n",
    "            for y in xrange(anchor_y, sampled.shape[0], k):\n",
    "                for x in xrange(anchor_x, sampled.shape[1], k):\n",
    "                    i = (y - anchor_y) / k\n",
    "                    j = (x - anchor_x) / k\n",
    "                    sampled[y, x] = samples[anchor_y, anchor_x, i, j]\n",
    "    return sampled"
   ]
  },
  {
   "cell_type": "code",
   "execution_count": 20,
   "metadata": {
    "collapsed": false
   },
   "outputs": [],
   "source": [
    "def save_24bit(name, img_f32):\n",
    "    img = Image.fromarray(img_f32)\n",
    "    img = img.convert(mode=\"RGB\")\n",
    "    img.save(name)\n",
    "    \n",
    "def save_samples(samples, path, base_name, extension=\".png\"):\n",
    "    for ay in xrange(samples.shape[0]):\n",
    "        for ax in xrange(samples.shape[1]):\n",
    "            name = os.path.join(path, base_name + (\"_ay=%d_ax=%d\" % (ay, ax)) + extension) \n",
    "            save_24bit(name, samples[ay, ax])"
   ]
  },
  {
   "cell_type": "code",
   "execution_count": 21,
   "metadata": {
    "collapsed": false
   },
   "outputs": [],
   "source": [
    "def read_samples(path, base_name, extension=\".png\"):\n",
    "    pattern = re.compile(base_name + \"_ay=[0-9]+_ax=[0-9]+\\\\\" + extension)\n",
    "    samples_paths = [entry for entry in listdir(path) if pattern.match(entry)]\n",
    "    k = int(len(samples_paths) ** 0.5) # assume the correct number of sample in the folder\n",
    "    sample_shape = imread(samples_paths[0], flatten=True).shape\n",
    "    samples = np.empty((k, k) + sample_shape)\n",
    "    for sample_name in samples_paths:\n",
    "        r = parse(base_name + \"_ay={:d}_ax={:d}\" + extension, sample_name)\n",
    "        (ay, ax) = r.fixed\n",
    "        samples[ay, ax] = imread(os.path.join(path, sample_name), flatten=True)\n",
    "    return samples"
   ]
  },
  {
   "cell_type": "code",
   "execution_count": null,
   "metadata": {
    "collapsed": false
   },
   "outputs": [],
   "source": [
    "k = 24\n",
    "psf = np.ones((k, k)) / k ** 2\n",
    "\n",
    "src = face(gray=True); # imread(\"../images/peka.png\", flatten=True)\n",
    "\n",
    "# mod = src.shape[0] % k, src.shape[1] % k\n",
    "# print mod\n",
    "# if mod[0] == 0:\n",
    "#     src = src[:-k+1, :]\n",
    "# elif mod[0] != 1:\n",
    "#     src = src[:-mod[0]+1, :]\n",
    "    \n",
    "# if mod[1] == 0:\n",
    "#     src = src[:, :-k+1]\n",
    "# elif mod[1] != 1:\n",
    "#     src = src[:, :-(mod[1]-1)]\n",
    "    \n",
    "print src.shape\n",
    "direct_conv = signal.convolve2d(src, psf)\n",
    "direct_rest = deconv2_adjsize(direct_conv, psf)\n",
    "show_pics([src, direct_rest], [\"Source\", \"Directly Restored\"])"
   ]
  },
  {
   "cell_type": "code",
   "execution_count": 237,
   "metadata": {
    "collapsed": false
   },
   "outputs": [
    {
     "ename": "AttributeError",
     "evalue": "'module' object has no attribute 'factor'",
     "output_type": "error",
     "traceback": [
      "\u001b[0;31m---------------------------------------------------------------------------\u001b[0m",
      "\u001b[0;31mAttributeError\u001b[0m                            Traceback (most recent call last)",
      "\u001b[0;32m<ipython-input-237-25281d4cfba8>\u001b[0m in \u001b[0;36m<module>\u001b[0;34m()\u001b[0m\n\u001b[0;32m----> 1\u001b[0;31m \u001b[0mhelp\u001b[0m\u001b[1;33m(\u001b[0m\u001b[0mnp\u001b[0m\u001b[1;33m.\u001b[0m\u001b[0mfactor\u001b[0m\u001b[1;33m)\u001b[0m\u001b[1;33m\u001b[0m\u001b[0m\n\u001b[0m",
      "\u001b[0;31mAttributeError\u001b[0m: 'module' object has no attribute 'factor'"
     ]
    }
   ],
   "source": [
    "help(np.factor)"
   ]
  },
  {
   "cell_type": "code",
   "execution_count": null,
   "metadata": {
    "collapsed": true
   },
   "outputs": [],
   "source": []
  }
 ],
 "metadata": {
  "anaconda-cloud": {},
  "kernelspec": {
   "display_name": "Python [default]",
   "language": "python",
   "name": "python2"
  },
  "language_info": {
   "codemirror_mode": {
    "name": "ipython",
    "version": 2
   },
   "file_extension": ".py",
   "mimetype": "text/x-python",
   "name": "python",
   "nbconvert_exporter": "python",
   "pygments_lexer": "ipython2",
   "version": "2.7.12"
  }
 },
 "nbformat": 4,
 "nbformat_minor": 1
}
